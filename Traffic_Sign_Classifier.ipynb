{
 "cells": [
  {
   "cell_type": "markdown",
   "metadata": {},
   "source": [
    "# Self-Driving Car Engineer Nanodegree\n",
    "\n",
    "## Deep Learning\n",
    "\n",
    "## Project: Build a Traffic Sign Recognition Classifier\n",
    "\n",
    "In this notebook, a template is provided for you to implement your functionality in stages, which is required to successfully complete this project. If additional code is required that cannot be included in the notebook, be sure that the Python code is successfully imported and included in your submission if necessary. \n",
    "\n",
    "> **Note**: Once you have completed all of the code implementations, you need to finalize your work by exporting the iPython Notebook as an HTML document. Before exporting the notebook to html, all of the code cells need to have been run so that reviewers can see the final implementation and output. You can then export the notebook by using the menu above and navigating to  \\n\",\n",
    "    \"**File -> Download as -> HTML (.html)**. Include the finished document along with this notebook as your submission. \n",
    "\n",
    "In addition to implementing code, there is a writeup to complete. The writeup should be completed in a separate file, which can be either a markdown file or a pdf document. There is a [write up template](https://github.com/udacity/CarND-Traffic-Sign-Classifier-Project/blob/master/writeup_template.md) that can be used to guide the writing process. Completing the code template and writeup template will cover all of the [rubric points](https://review.udacity.com/#!/rubrics/481/view) for this project.\n",
    "\n",
    "The [rubric](https://review.udacity.com/#!/rubrics/481/view) contains \"Stand Out Suggestions\" for enhancing the project beyond the minimum requirements. The stand out suggestions are optional. If you decide to pursue the \"stand out suggestions\", you can include the code in this Ipython notebook and also discuss the results in the writeup file.\n",
    "\n",
    "\n",
    ">**Note:** Code and Markdown cells can be executed using the **Shift + Enter** keyboard shortcut. In addition, Markdown cells can be edited by typically double-clicking the cell to enter edit mode."
   ]
  },
  {
   "cell_type": "code",
   "execution_count": 1,
   "metadata": {
    "collapsed": true
   },
   "outputs": [],
   "source": [
    "import tensorflow as tf "
   ]
  },
  {
   "cell_type": "markdown",
   "metadata": {},
   "source": [
    "---\n",
    "## Step 0: Load The Data"
   ]
  },
  {
   "cell_type": "code",
   "execution_count": 1,
   "metadata": {
    "collapsed": true
   },
   "outputs": [],
   "source": [
    "# Load pickled data\n",
    "import pickle\n",
    "\n",
    "# TODO: Fill this in based on where you saved the training and testing data\n",
    "\n",
    "training_file = \"./data/train.p\"\n",
    "validation_file= \"./data/valid.p\"\n",
    "testing_file = \"./data/test.p\"\n",
    "\n",
    "with open(training_file, mode='rb') as f:\n",
    "    train = pickle.load(f)\n",
    "with open(validation_file, mode='rb') as f:\n",
    "    valid = pickle.load(f)\n",
    "with open(testing_file, mode='rb') as f:\n",
    "    test = pickle.load(f)\n",
    "    \n",
    "X_train, y_train = train['features'], train['labels']\n",
    "X_valid, y_valid = valid['features'], valid['labels']\n",
    "X_test, y_test = test['features'], test['labels']"
   ]
  },
  {
   "cell_type": "markdown",
   "metadata": {},
   "source": [
    "---\n",
    "\n",
    "## Step 1: Dataset Summary & Exploration\n",
    "\n",
    "The pickled data is a dictionary with 4 key/value pairs:\n",
    "\n",
    "- `'features'` is a 4D array containing raw pixel data of the traffic sign images, (num examples, width, height, channels).\n",
    "- `'labels'` is a 1D array containing the label/class id of the traffic sign. The file `signnames.csv` contains id -> name mappings for each id.\n",
    "- `'sizes'` is a list containing tuples, (width, height) representing the original width and height the image.\n",
    "- `'coords'` is a list containing tuples, (x1, y1, x2, y2) representing coordinates of a bounding box around the sign in the image. **THESE COORDINATES ASSUME THE ORIGINAL IMAGE. THE PICKLED DATA CONTAINS RESIZED VERSIONS (32 by 32) OF THESE IMAGES**\n",
    "\n",
    "Complete the basic data summary below. Use python, numpy and/or pandas methods to calculate the data summary rather than hard coding the results. For example, the [pandas shape method](http://pandas.pydata.org/pandas-docs/stable/generated/pandas.DataFrame.shape.html) might be useful for calculating some of the summary results. "
   ]
  },
  {
   "cell_type": "markdown",
   "metadata": {},
   "source": [
    "### Provide a Basic Summary of the Data Set Using Python, Numpy and/or Pandas"
   ]
  },
  {
   "cell_type": "code",
   "execution_count": 2,
   "metadata": {
    "scrolled": true
   },
   "outputs": [
    {
     "name": "stdout",
     "output_type": "stream",
     "text": [
      "Number of training examples = 34799\n",
      "Number of validation examples =  4410\n",
      "Number of testing examples = 12630\n",
      "Image data shape = (32, 32, 3)\n",
      "Number of classes = 43\n"
     ]
    }
   ],
   "source": [
    "### Replace each question mark with the appropriate value. \n",
    "### Use python, pandas or numpy methods rather than hard coding the results\n",
    "\n",
    "# TODO: Number of training examples\n",
    "n_train = y_train.shape[0]\n",
    "\n",
    "# TODO: Number of validation examples\n",
    "n_validation = y_valid.shape[0]\n",
    "\n",
    "# TODO: Number of testing examples.\n",
    "n_test = y_test.shape[0]\n",
    "\n",
    "# TODO: What's the shape of an traffic sign image?\n",
    "image_shape = X_train.shape[1:]\n",
    "\n",
    "# TODO: How many unique classes/labels there are in the dataset.\n",
    "n_classes = 43\n",
    "\n",
    "print(\"Number of training examples =\", n_train)\n",
    "print(\"Number of validation examples = \", n_validation)\n",
    "print(\"Number of testing examples =\", n_test)\n",
    "print(\"Image data shape =\", image_shape)\n",
    "print(\"Number of classes =\", n_classes)"
   ]
  },
  {
   "cell_type": "markdown",
   "metadata": {},
   "source": [
    "### Include an exploratory visualization of the dataset"
   ]
  },
  {
   "cell_type": "markdown",
   "metadata": {},
   "source": [
    "Visualize the German Traffic Signs Dataset using the pickled file(s). This is open ended, suggestions include: plotting traffic sign images, plotting the count of each sign, etc. \n",
    "\n",
    "The [Matplotlib](http://matplotlib.org/) [examples](http://matplotlib.org/examples/index.html) and [gallery](http://matplotlib.org/gallery.html) pages are a great resource for doing visualizations in Python.\n",
    "\n",
    "**NOTE:** It's recommended you start with something simple first. If you wish to do more, come back to it after you've completed the rest of the sections. It can be interesting to look at the distribution of classes in the training, validation and test set. Is the distribution the same? Are there more examples of some classes than others?"
   ]
  },
  {
   "cell_type": "code",
   "execution_count": 34,
   "metadata": {
    "scrolled": true
   },
   "outputs": [
    {
     "data": {
      "text/plain": [
       "Text(0.5, 1.0, 'Test Data Distribution')"
      ]
     },
     "execution_count": 34,
     "metadata": {},
     "output_type": "execute_result"
    },
    {
     "data": {
      "image/png": "[encoded data removed]",
      "text/plain": [
       "<Figure size 1440x1440 with 3 Axes>"
      ]
     },
     "metadata": {},
     "output_type": "display_data"
    }
   ],
   "source": [
    "### Data exploration visualization code goes here.\n",
    "### Feel free to use as many code cells as needed.\n",
    "import numpy as np\n",
    "import matplotlib.pyplot as plt\n",
    "# Visualizations will be shown in the notebook.\n",
    "%matplotlib inline\n",
    "\n",
    "stat_train = np.zeros(n_classes)\n",
    "stat_valid = np.zeros(n_classes)\n",
    "stat_test = np.zeros(n_classes)\n",
    "\n",
    "for i in range(n_train):\n",
    "    stat_train[int(y_train[i])] += 1\n",
    "\n",
    "for i in range(n_validation):\n",
    "    stat_valid[int(y_valid[i])] += 1\n",
    "\n",
    "for i in range(n_test):\n",
    "    stat_test[int(y_test[i])] += 1\n",
    "\n",
    "\n",
    "f, (axe0, axe1, axe2) = plt.subplots(3,1, figsize=(20,20))\n",
    "axe0.bar(range(n_classes), stat_train)\n",
    "axe0.set_title(\"Train Data Distribution\", fontsize = 20)\n",
    "axe1.bar(range(n_classes), stat_valid)\n",
    "axe1.set_title(\"Valid Data Distribution\", fontsize = 20)\n",
    "axe2.bar(range(n_classes), stat_test)\n",
    "axe2.set_title(\"Test Data Distribution\", fontsize = 20)\n"
   ]
  },
  {
   "cell_type": "markdown",
   "metadata": {},
   "source": [
    "----\n",
    "\n",
    "## Step 2: Design and Test a Model Architecture\n",
    "\n",
    "Design and implement a deep learning model that learns to recognize traffic signs. Train and test your model on the [German Traffic Sign Dataset](http://benchmark.ini.rub.de/?section=gtsrb&subsection=dataset).\n",
    "\n",
    "The LeNet-5 implementation shown in the [classroom](https://classroom.udacity.com/nanodegrees/nd013/parts/fbf77062-5703-404e-b60c-95b78b2f3f9e/modules/6df7ae49-c61c-4bb2-a23e-6527e69209ec/lessons/601ae704-1035-4287-8b11-e2c2716217ad/concepts/d4aca031-508f-4e0b-b493-e7b706120f81) at the end of the CNN lesson is a solid starting point. You'll have to change the number of classes and possibly the preprocessing, but aside from that it's plug and play! \n",
    "\n",
    "With the LeNet-5 solution from the lecture, you should expect a validation set accuracy of about 0.89. To meet specifications, the validation set accuracy will need to be at least 0.93. It is possible to get an even higher accuracy, but 0.93 is the minimum for a successful project submission. \n",
    "\n",
    "There are various aspects to consider when thinking about this problem:\n",
    "\n",
    "- Neural network architecture (is the network over or underfitting?)\n",
    "- Play around preprocessing techniques (normalization, rgb to grayscale, etc)\n",
    "- Number of examples per label (some have more than others).\n",
    "- Generate fake data.\n",
    "\n",
    "Here is an example of a [published baseline model on this problem](http://yann.lecun.com/exdb/publis/pdf/sermanet-ijcnn-11.pdf). It's not required to be familiar with the approach used in the paper but, it's good practice to try to read papers like these."
   ]
  },
  {
   "cell_type": "markdown",
   "metadata": {},
   "source": [
    "### Pre-process the Data Set (normalization, grayscale, etc.)"
   ]
  },
  {
   "cell_type": "markdown",
   "metadata": {},
   "source": [
    "Minimally, the image data should be normalized so that the data has mean zero and equal variance. For image data, `(pixel - 128)/ 128` is a quick way to approximately normalize the data and can be used in this project. \n",
    "\n",
    "Other pre-processing steps are optional. You can try different techniques to see if it improves performance. \n",
    "\n",
    "Use the code cell (or multiple code cells, if necessary) to implement the first step of your project."
   ]
  },
  {
   "cell_type": "code",
   "execution_count": 4,
   "metadata": {
    "collapsed": true,
    "scrolled": true
   },
   "outputs": [],
   "source": [
    "### Preprocess the data here. It is required to normalize the data. Other preprocessing steps could include \n",
    "### converting to grayscale, etc.\n",
    "### Feel free to use as many code cells as needed.\n",
    "import numpy as np\n",
    "import random\n",
    "\n",
    "def permutate(data, label, n_data):\n",
    "    \"\"\"Rearange the input data randomly.\n",
    "    \"\"\"\n",
    "    for n in range(n_data):\n",
    "        m = random.randint(0, n_data-1)\n",
    "        \n",
    "        data_tmp = np.array(data[n, :, :, :])\n",
    "        data[n, :, :, :] = data[m, :, :, :]\n",
    "        data[m, :, :, :] = data_tmp\n",
    "        \n",
    "        label_tmp = np.array(label[n])\n",
    "        label[n] = label[m]\n",
    "        label[m] = label_tmp\n",
    "\n",
    "def addGaussianNoise(data, percentage):\n",
    "    \"\"\"Add Gaussian noise to input data.\n",
    "    \"\"\"\n",
    "    height, width = data.shape[1], data.shape[2]\n",
    "    data_dest = np.array(data)\n",
    "    noiseNum = int(height*width*percentage)\n",
    "    for i in range(data.shape[0]):\n",
    "        for n in range(noiseNum):\n",
    "            x = random.randint(0, height-1)\n",
    "            y = random.randint(0, width-1)\n",
    "            data_dest[i, x, y, :] = [255, 255, 255]\n",
    "    return data_dest\n",
    "\n",
    "permutate(X_train, y_train, n_train)\n",
    "permutate(X_test, y_test, n_test)\n",
    "permutate(X_valid, y_valid, n_validation)"
   ]
  },
  {
   "cell_type": "code",
   "execution_count": 31,
   "metadata": {
    "scrolled": true
   },
   "outputs": [
    {
     "data": {
      "text/plain": [
       "Text(0.5, 1.0, 'noised image')"
      ]
     },
     "execution_count": 31,
     "metadata": {},
     "output_type": "execute_result"
    },
    {
     "data": {
      "image/png": "[encoded data removed]",
      "text/plain": [
       "<Figure size 720x1440 with 2 Axes>"
      ]
     },
     "metadata": {},
     "output_type": "display_data"
    }
   ],
   "source": [
    "img_orig = X_valid\n",
    "img_noise = addGaussianNoise(img_orig, 0.02)\n",
    "f, (axe0, axe1) = plt.subplots(1,2, figsize=(10,20))\n",
    "axe0.imshow(img_orig[5])\n",
    "axe0.set_title(\"original image\")\n",
    "axe1.imshow(img_noise[5])\n",
    "axe1.set_title(\"noised image\")"
   ]
  },
  {
   "cell_type": "markdown",
   "metadata": {},
   "source": [
    "### Model Architecture"
   ]
  },
  {
   "cell_type": "code",
   "execution_count": 5,
   "metadata": {
    "collapsed": true,
    "scrolled": true
   },
   "outputs": [],
   "source": [
    "### Define your architecture here.\n",
    "### Feel free to use as many code cells as needed.\n",
    "import tensorflow as tf\n",
    "from tensorflow.contrib import slim\n",
    "input_shape = [None] + list(image_shape)\n",
    "output_shape = [None]\n",
    "\n",
    "inputs = tf.placeholder(dtype = tf.float32, shape = input_shape, name=\"inputs\")\n",
    "labels = tf.placeholder(dtype = tf.int64, shape = output_shape, name = \"labels\")\n",
    "\n",
    "def model(inputs = inputs, n_classes = n_classes, weight_decay = 1e-6):\n",
    "    \"\"\"Model Architecture.\n",
    "    \"\"\"\n",
    "    net1 = slim.conv2d(inputs, num_outputs = 6, kernel_size = 5, stride = 1, \n",
    "                       weights_regularizer = slim.l2_regularizer(weight_decay), scope = \"conv1\")\n",
    "    net1 = slim.max_pool2d(net1, 2, scope = \"pool1\")\n",
    "    net2 = slim.conv2d(net1, num_outputs = 12, kernel_size = 3, stride = 1, \n",
    "                       weights_regularizer = slim.l2_regularizer(weight_decay), scope = \"conv2\")\n",
    "    net2 = slim.max_pool2d(net2, 2, scope = \"pool2\")\n",
    "    net3 = slim.conv2d(net2, num_outputs = 24, kernel_size = 3, stride = 1, \n",
    "                        weights_regularizer = slim.l2_regularizer(weight_decay), scope = \"conv3\")\n",
    "    net3 = slim.max_pool2d(net3, 2, scope = \"pool3\")\n",
    "    net4 = slim.conv2d(net3, num_outputs = 32, kernel_size = 3, stride = 1, \n",
    "                        weights_regularizer = slim.l2_regularizer(weight_decay), scope = \"conv4\")\n",
    "    net4 = slim.max_pool2d(net4, 2, scope = \"pool4\")\n",
    "    net4_shape = net4.shape\n",
    "    net4_flatten = tf.reshape(net4, [-1, net4_shape[1]*net4_shape[2]*net4_shape[3]])\n",
    "    fc6 = slim.fully_connected(net4_flatten, n_classes, activation_fn = None,\n",
    "                               weights_regularizer = slim.l2_regularizer(weight_decay), \n",
    "                                scope = \"fc6\")\n",
    "    return fc6\n",
    "\n"
   ]
  },
  {
   "cell_type": "markdown",
   "metadata": {},
   "source": [
    "### Train, Validate and Test the Model"
   ]
  },
  {
   "cell_type": "markdown",
   "metadata": {},
   "source": [
    "A validation set can be used to assess how well the model is performing. A low accuracy on the training and validation\n",
    "sets imply underfitting. A high accuracy on the training set but low accuracy on the validation set implies overfitting."
   ]
  },
  {
   "cell_type": "code",
   "execution_count": 6,
   "metadata": {
    "scrolled": false
   },
   "outputs": [
    {
     "name": "stdout",
     "output_type": "stream",
     "text": [
      "WARNING:tensorflow:From <ipython-input-6-1eb3d544162e>:10: softmax_cross_entropy_with_logits (from tensorflow.python.ops.nn_ops) is deprecated and will be removed in a future version.\n",
      "Instructions for updating:\n",
      "\n",
      "Future major versions of TensorFlow will allow gradients to flow\n",
      "into the labels input on backprop by default.\n",
      "\n",
      "See `tf.nn.softmax_cross_entropy_with_logits_v2`.\n",
      "\n"
     ]
    }
   ],
   "source": [
    "### Train your model here.\n",
    "### Calculate and report the accuracy on the training and validation set.\n",
    "### Once a final model architecture is selected, \n",
    "### the accuracy on the test set should be calculated and reported as well.\n",
    "### Feel free to use as many code cells as needed.\n",
    "\n",
    "def compute_loss(logits, labels, n_classes, scope):\n",
    "    with tf.name_scope(scope):\n",
    "        labels = tf.one_hot(labels, n_classes)\n",
    "        entropy = tf.nn.softmax_cross_entropy_with_logits(labels = labels, logits = logits)\n",
    "        loss = tf.reduce_mean(entropy, name = \"loss\")\n",
    "        \n",
    "        reg_loss = tf.add_n(tf.get_collection(tf.GraphKeys.REGULARIZATION_LOSSES), name = \"reg_loss\")\n",
    "        total_loss = tf.add_n([loss, reg_loss], name = \"total_loss\")\n",
    "        \n",
    "        tf.summary.scalar(\"loss\", loss)\n",
    "        tf.summary.scalar(\"reg_loss\", reg_loss)\n",
    "        tf.summary.scalar(\"total_loss\", total_loss)\n",
    "    return total_loss\n",
    "\n",
    "def train(loss, learning_rate, step, scope):\n",
    "    with tf.name_scope(scope):\n",
    "        opt = tf.train.AdamOptimizer(learning_rate)\n",
    "        grads = opt.compute_gradients(loss)\n",
    "        apply_gradient_op = opt.apply_gradients(grads, global_step = step)\n",
    "        variable_averages = tf.train.ExponentialMovingAverage(0.9, name=\"avg\")\n",
    "        variable_averages_op = variable_averages.apply(tf.trainable_variables())\n",
    "        train_op = tf.group(apply_gradient_op, variable_averages_op)\n",
    "    return train_op\n",
    "\n",
    "def compute_accuracy(logits, labels, scope):\n",
    "    with tf.name_scope(scope):\n",
    "        predicts = tf.argmax(tf.nn.softmax(logits), 1)\n",
    "        corrects = tf.equal(predicts, labels)\n",
    "        accuracy = tf.reduce_mean(tf.cast(corrects, tf.float32))\n",
    "        \n",
    "        tf.summary.scalar(\"accuracy\", accuracy)\n",
    "    return accuracy\n",
    "\n",
    "# basic parameters\n",
    "batch_size = 128\n",
    "num_epoches = 50\n",
    "decay_epoches = 10\n",
    "learning_rate_base = 1e-3\n",
    "learning_rate_decay = 0.5\n",
    "max_steps = int(num_epoches * n_train / batch_size)\n",
    "decay_steps = int(decay_epoches * n_train / batch_size)\n",
    "\n",
    "global_step = tf.Variable(0, trainable = False, dtype = tf.int32, name = \"global_step\")\n",
    "learning_rate = tf.train.exponential_decay(learning_rate_base, global_step, decay_steps, learning_rate_decay, \n",
    "                                           staircase = True)\n",
    "\n",
    "logits = model(inputs, n_classes)\n",
    "# logits = inception.inception_v3(inputs, num_classes = n_classes)\n",
    "\n",
    "saver = tf.train.Saver()\n",
    "\n",
    "loss = compute_loss(logits, labels, n_classes, \"loss\")\n",
    "accuracy = compute_accuracy(logits, labels, \"accuracy\")\n",
    "train_op = train(loss, learning_rate, global_step, \"training\")\n",
    "\n",
    "summary_op = tf.summary.merge_all()"
   ]
  },
  {
   "cell_type": "code",
   "execution_count": 21,
   "metadata": {
    "scrolled": true
   },
   "outputs": [
    {
     "name": "stdout",
     "output_type": "stream",
     "text": [
      "Epoch 0, Step 1 : train loss--3.71 , train accuracy--7.81%\n",
      "Epoch 0, Step 1 : valid loss--3.75 , valid accuracy--4.69%\n",
      "Epoch 0, Step 101 : train loss--2.75 , train accuracy--26.56%\n",
      "Epoch 0, Step 101 : valid loss--3.35 , valid accuracy--14.06%\n",
      "Epoch 0, Step 201 : train loss--1.79 , train accuracy--48.44%\n",
      "Epoch 0, Step 201 : valid loss--2.40 , valid accuracy--36.72%\n",
      "Epoch 1, Step 272 : train loss--1.46 , train accuracy--62.50%\n",
      "Epoch 1, Step 272 : valid loss--1.93 , valid accuracy--48.44%\n",
      "Epoch 1, Step 372 : train loss--1.09 , train accuracy--67.97%\n",
      "Epoch 1, Step 372 : valid loss--1.39 , valid accuracy--56.25%\n",
      "Epoch 1, Step 472 : train loss--0.57 , train accuracy--87.50%\n",
      "Epoch 1, Step 472 : valid loss--1.52 , valid accuracy--60.16%\n",
      "Epoch 2, Step 543 : train loss--0.61 , train accuracy--81.25%\n",
      "Epoch 2, Step 543 : valid loss--1.36 , valid accuracy--64.84%\n",
      "Epoch 2, Step 643 : train loss--0.77 , train accuracy--78.12%\n",
      "Epoch 2, Step 643 : valid loss--1.04 , valid accuracy--74.22%\n",
      "Epoch 2, Step 743 : train loss--0.49 , train accuracy--84.38%\n",
      "Epoch 2, Step 743 : valid loss--0.92 , valid accuracy--73.44%\n",
      "Epoch 3, Step 814 : train loss--0.45 , train accuracy--87.50%\n",
      "Epoch 3, Step 814 : valid loss--0.98 , valid accuracy--71.88%\n",
      "Epoch 3, Step 914 : train loss--0.40 , train accuracy--90.62%\n",
      "Epoch 3, Step 914 : valid loss--0.83 , valid accuracy--72.66%\n",
      "Epoch 3, Step 1014 : train loss--0.35 , train accuracy--89.06%\n",
      "Epoch 3, Step 1014 : valid loss--0.75 , valid accuracy--83.59%\n",
      "Epoch 4, Step 1085 : train loss--0.35 , train accuracy--88.28%\n",
      "Epoch 4, Step 1085 : valid loss--0.90 , valid accuracy--82.81%\n",
      "Epoch 4, Step 1185 : train loss--0.31 , train accuracy--91.41%\n",
      "Epoch 4, Step 1185 : valid loss--0.99 , valid accuracy--76.56%\n",
      "Epoch 4, Step 1285 : train loss--0.28 , train accuracy--91.41%\n",
      "Epoch 4, Step 1285 : valid loss--1.14 , valid accuracy--69.53%\n",
      "Epoch 5, Step 1356 : train loss--0.22 , train accuracy--93.75%\n",
      "Epoch 5, Step 1356 : valid loss--0.76 , valid accuracy--81.25%\n",
      "Epoch 5, Step 1456 : train loss--0.16 , train accuracy--94.53%\n",
      "Epoch 5, Step 1456 : valid loss--0.76 , valid accuracy--83.59%\n",
      "Epoch 5, Step 1556 : train loss--0.19 , train accuracy--94.53%\n",
      "Epoch 5, Step 1556 : valid loss--0.80 , valid accuracy--75.00%\n",
      "Epoch 6, Step 1627 : train loss--0.24 , train accuracy--92.19%\n",
      "Epoch 6, Step 1627 : valid loss--0.86 , valid accuracy--84.38%\n",
      "Epoch 6, Step 1727 : train loss--0.17 , train accuracy--95.31%\n",
      "Epoch 6, Step 1727 : valid loss--1.38 , valid accuracy--81.25%\n",
      "Epoch 6, Step 1827 : train loss--0.19 , train accuracy--95.31%\n",
      "Epoch 6, Step 1827 : valid loss--0.68 , valid accuracy--82.81%\n",
      "Epoch 7, Step 1898 : train loss--0.20 , train accuracy--95.31%\n",
      "Epoch 7, Step 1898 : valid loss--0.81 , valid accuracy--84.38%\n",
      "Epoch 7, Step 1998 : train loss--0.12 , train accuracy--95.31%\n",
      "Epoch 7, Step 1998 : valid loss--0.63 , valid accuracy--84.38%\n",
      "Epoch 7, Step 2098 : train loss--0.14 , train accuracy--94.53%\n",
      "Epoch 7, Step 2098 : valid loss--0.89 , valid accuracy--79.69%\n",
      "Epoch 8, Step 2169 : train loss--0.10 , train accuracy--96.88%\n",
      "Epoch 8, Step 2169 : valid loss--0.71 , valid accuracy--83.59%\n",
      "Epoch 8, Step 2269 : train loss--0.15 , train accuracy--96.09%\n",
      "Epoch 8, Step 2269 : valid loss--1.24 , valid accuracy--76.56%\n",
      "Epoch 8, Step 2369 : train loss--0.09 , train accuracy--96.88%\n",
      "Epoch 8, Step 2369 : valid loss--0.79 , valid accuracy--83.59%\n",
      "Epoch 9, Step 2440 : train loss--0.11 , train accuracy--95.31%\n",
      "Epoch 9, Step 2440 : valid loss--1.64 , valid accuracy--77.34%\n",
      "Epoch 9, Step 2540 : train loss--0.06 , train accuracy--99.22%\n",
      "Epoch 9, Step 2540 : valid loss--1.12 , valid accuracy--78.91%\n",
      "Epoch 9, Step 2640 : train loss--0.04 , train accuracy--99.22%\n",
      "Epoch 9, Step 2640 : valid loss--0.54 , valid accuracy--88.28%\n",
      "Epoch 10, Step 2711 : train loss--0.10 , train accuracy--96.88%\n",
      "Epoch 10, Step 2711 : valid loss--0.65 , valid accuracy--85.16%\n",
      "Epoch 10, Step 2811 : train loss--0.05 , train accuracy--98.44%\n",
      "Epoch 10, Step 2811 : valid loss--0.98 , valid accuracy--84.38%\n",
      "Epoch 10, Step 2911 : train loss--0.03 , train accuracy--99.22%\n",
      "Epoch 10, Step 2911 : valid loss--1.34 , valid accuracy--77.34%\n",
      "Epoch 11, Step 2982 : train loss--0.06 , train accuracy--98.44%\n",
      "Epoch 11, Step 2982 : valid loss--0.93 , valid accuracy--82.03%\n",
      "Epoch 11, Step 3082 : train loss--0.03 , train accuracy--100.00%\n",
      "Epoch 11, Step 3082 : valid loss--0.84 , valid accuracy--80.70%\n",
      "Epoch 11, Step 3182 : train loss--0.04 , train accuracy--98.44%\n",
      "Epoch 11, Step 3182 : valid loss--0.70 , valid accuracy--85.16%\n",
      "Epoch 12, Step 3253 : train loss--0.03 , train accuracy--99.22%\n",
      "Epoch 12, Step 3253 : valid loss--0.96 , valid accuracy--79.69%\n",
      "Epoch 12, Step 3353 : train loss--0.03 , train accuracy--99.22%\n",
      "Epoch 12, Step 3353 : valid loss--0.73 , valid accuracy--82.81%\n",
      "Epoch 12, Step 3453 : train loss--0.04 , train accuracy--100.00%\n",
      "Epoch 12, Step 3453 : valid loss--0.37 , valid accuracy--88.28%\n",
      "Epoch 13, Step 3524 : train loss--0.05 , train accuracy--97.66%\n",
      "Epoch 13, Step 3524 : valid loss--1.24 , valid accuracy--82.03%\n",
      "Epoch 13, Step 3624 : train loss--0.04 , train accuracy--99.22%\n",
      "Epoch 13, Step 3624 : valid loss--1.02 , valid accuracy--82.81%\n",
      "Epoch 13, Step 3724 : train loss--0.03 , train accuracy--100.00%\n",
      "Epoch 13, Step 3724 : valid loss--1.11 , valid accuracy--84.38%\n",
      "Epoch 14, Step 3795 : train loss--0.02 , train accuracy--100.00%\n",
      "Epoch 14, Step 3795 : valid loss--0.49 , valid accuracy--89.06%\n",
      "Epoch 14, Step 3895 : train loss--0.04 , train accuracy--99.22%\n",
      "Epoch 14, Step 3895 : valid loss--0.77 , valid accuracy--86.72%\n",
      "Epoch 14, Step 3995 : train loss--0.03 , train accuracy--100.00%\n",
      "Epoch 14, Step 3995 : valid loss--0.92 , valid accuracy--78.12%\n",
      "Epoch 15, Step 4066 : train loss--0.04 , train accuracy--99.22%\n",
      "Epoch 15, Step 4066 : valid loss--0.52 , valid accuracy--90.62%\n",
      "Epoch 15, Step 4166 : train loss--0.05 , train accuracy--99.22%\n",
      "Epoch 15, Step 4166 : valid loss--0.80 , valid accuracy--85.16%\n",
      "Epoch 15, Step 4266 : train loss--0.05 , train accuracy--99.22%\n",
      "Epoch 15, Step 4266 : valid loss--1.34 , valid accuracy--85.94%\n",
      "Epoch 16, Step 4337 : train loss--0.01 , train accuracy--100.00%\n",
      "Epoch 16, Step 4337 : valid loss--1.28 , valid accuracy--85.16%\n",
      "Epoch 16, Step 4437 : train loss--0.04 , train accuracy--98.44%\n",
      "Epoch 16, Step 4437 : valid loss--0.90 , valid accuracy--83.59%\n",
      "Epoch 16, Step 4537 : train loss--0.12 , train accuracy--97.66%\n",
      "Epoch 16, Step 4537 : valid loss--0.78 , valid accuracy--89.84%\n",
      "Epoch 17, Step 4608 : train loss--0.01 , train accuracy--100.00%\n",
      "Epoch 17, Step 4608 : valid loss--0.69 , valid accuracy--82.81%\n",
      "Epoch 17, Step 4708 : train loss--0.05 , train accuracy--98.44%\n",
      "Epoch 17, Step 4708 : valid loss--0.75 , valid accuracy--85.94%\n",
      "Epoch 17, Step 4808 : train loss--0.03 , train accuracy--99.22%\n",
      "Epoch 17, Step 4808 : valid loss--1.29 , valid accuracy--82.03%\n",
      "Epoch 18, Step 4879 : train loss--0.02 , train accuracy--100.00%\n",
      "Epoch 18, Step 4879 : valid loss--1.86 , valid accuracy--80.47%\n",
      "Epoch 18, Step 4979 : train loss--0.02 , train accuracy--99.22%\n",
      "Epoch 18, Step 4979 : valid loss--0.57 , valid accuracy--87.50%\n",
      "Epoch 18, Step 5079 : train loss--0.02 , train accuracy--100.00%\n",
      "Epoch 18, Step 5079 : valid loss--0.74 , valid accuracy--84.38%\n",
      "Epoch 19, Step 5150 : train loss--0.02 , train accuracy--100.00%\n",
      "Epoch 19, Step 5150 : valid loss--1.53 , valid accuracy--82.81%\n",
      "Epoch 19, Step 5250 : train loss--0.05 , train accuracy--98.44%\n",
      "Epoch 19, Step 5250 : valid loss--0.62 , valid accuracy--85.94%\n",
      "Epoch 19, Step 5350 : train loss--0.01 , train accuracy--100.00%\n",
      "Epoch 19, Step 5350 : valid loss--0.84 , valid accuracy--83.59%\n",
      "Epoch 20, Step 5421 : train loss--0.01 , train accuracy--100.00%\n",
      "Epoch 20, Step 5421 : valid loss--1.26 , valid accuracy--84.38%\n",
      "Epoch 20, Step 5521 : train loss--0.02 , train accuracy--99.22%\n",
      "Epoch 20, Step 5521 : valid loss--1.10 , valid accuracy--87.50%\n",
      "Epoch 20, Step 5621 : train loss--0.01 , train accuracy--100.00%\n",
      "Epoch 20, Step 5621 : valid loss--1.62 , valid accuracy--79.69%\n",
      "Epoch 21, Step 5692 : train loss--0.03 , train accuracy--98.44%\n",
      "Epoch 21, Step 5692 : valid loss--0.88 , valid accuracy--88.28%\n",
      "Epoch 21, Step 5792 : train loss--0.01 , train accuracy--100.00%\n",
      "Epoch 21, Step 5792 : valid loss--0.71 , valid accuracy--90.62%\n"
     ]
    },
    {
     "name": "stdout",
     "output_type": "stream",
     "text": [
      "Epoch 21, Step 5892 : train loss--0.01 , train accuracy--100.00%\n",
      "Epoch 21, Step 5892 : valid loss--1.43 , valid accuracy--82.03%\n",
      "Epoch 22, Step 5963 : train loss--0.02 , train accuracy--99.22%\n",
      "Epoch 22, Step 5963 : valid loss--1.64 , valid accuracy--82.03%\n",
      "Epoch 22, Step 6063 : train loss--0.01 , train accuracy--100.00%\n",
      "Epoch 22, Step 6063 : valid loss--1.08 , valid accuracy--89.06%\n",
      "Epoch 22, Step 6163 : train loss--0.01 , train accuracy--100.00%\n",
      "Epoch 22, Step 6163 : valid loss--1.06 , valid accuracy--82.61%\n",
      "Epoch 23, Step 6234 : train loss--0.01 , train accuracy--100.00%\n",
      "Epoch 23, Step 6234 : valid loss--1.22 , valid accuracy--79.69%\n",
      "Epoch 23, Step 6334 : train loss--0.03 , train accuracy--99.22%\n",
      "Epoch 23, Step 6334 : valid loss--1.51 , valid accuracy--80.47%\n",
      "Epoch 23, Step 6434 : train loss--0.01 , train accuracy--100.00%\n",
      "Epoch 23, Step 6434 : valid loss--0.51 , valid accuracy--89.06%\n",
      "Epoch 24, Step 6505 : train loss--0.03 , train accuracy--98.44%\n",
      "Epoch 24, Step 6505 : valid loss--0.55 , valid accuracy--89.84%\n",
      "Epoch 24, Step 6605 : train loss--0.02 , train accuracy--99.22%\n",
      "Epoch 24, Step 6605 : valid loss--0.72 , valid accuracy--86.72%\n",
      "Epoch 24, Step 6705 : train loss--0.01 , train accuracy--100.00%\n",
      "Epoch 24, Step 6705 : valid loss--1.65 , valid accuracy--78.12%\n",
      "Epoch 25, Step 6776 : train loss--0.01 , train accuracy--100.00%\n",
      "Epoch 25, Step 6776 : valid loss--1.26 , valid accuracy--89.06%\n",
      "Epoch 25, Step 6876 : train loss--0.02 , train accuracy--99.22%\n",
      "Epoch 25, Step 6876 : valid loss--0.70 , valid accuracy--83.59%\n",
      "Epoch 25, Step 6976 : train loss--0.02 , train accuracy--99.22%\n",
      "Epoch 25, Step 6976 : valid loss--0.77 , valid accuracy--89.06%\n",
      "Epoch 26, Step 7047 : train loss--0.01 , train accuracy--100.00%\n",
      "Epoch 26, Step 7047 : valid loss--0.99 , valid accuracy--82.03%\n",
      "Epoch 26, Step 7147 : train loss--0.00 , train accuracy--100.00%\n",
      "Epoch 26, Step 7147 : valid loss--0.62 , valid accuracy--85.16%\n",
      "Epoch 26, Step 7247 : train loss--0.01 , train accuracy--100.00%\n",
      "Epoch 26, Step 7247 : valid loss--0.93 , valid accuracy--90.62%\n",
      "Epoch 27, Step 7318 : train loss--0.03 , train accuracy--99.22%\n",
      "Epoch 27, Step 7318 : valid loss--1.18 , valid accuracy--85.16%\n",
      "Epoch 27, Step 7418 : train loss--0.02 , train accuracy--100.00%\n",
      "Epoch 27, Step 7418 : valid loss--1.83 , valid accuracy--85.94%\n",
      "Epoch 27, Step 7518 : train loss--0.01 , train accuracy--100.00%\n",
      "Epoch 27, Step 7518 : valid loss--1.15 , valid accuracy--83.59%\n",
      "Epoch 28, Step 7589 : train loss--0.01 , train accuracy--100.00%\n",
      "Epoch 28, Step 7589 : valid loss--0.73 , valid accuracy--92.19%\n",
      "Epoch 28, Step 7689 : train loss--0.01 , train accuracy--100.00%\n",
      "Epoch 28, Step 7689 : valid loss--1.21 , valid accuracy--83.59%\n",
      "Epoch 28, Step 7789 : train loss--0.01 , train accuracy--100.00%\n",
      "Epoch 28, Step 7789 : valid loss--0.76 , valid accuracy--83.59%\n",
      "Epoch 29, Step 7860 : train loss--0.01 , train accuracy--100.00%\n",
      "Epoch 29, Step 7860 : valid loss--1.20 , valid accuracy--84.38%\n",
      "Epoch 29, Step 7960 : train loss--0.01 , train accuracy--100.00%\n",
      "Epoch 29, Step 7960 : valid loss--2.30 , valid accuracy--81.25%\n",
      "Epoch 29, Step 8060 : train loss--0.01 , train accuracy--100.00%\n",
      "Epoch 29, Step 8060 : valid loss--1.09 , valid accuracy--84.38%\n",
      "Epoch 30, Step 8131 : train loss--0.01 , train accuracy--100.00%\n",
      "Epoch 30, Step 8131 : valid loss--1.11 , valid accuracy--85.94%\n",
      "Epoch 30, Step 8231 : train loss--0.01 , train accuracy--100.00%\n",
      "Epoch 30, Step 8231 : valid loss--0.73 , valid accuracy--90.62%\n",
      "Epoch 30, Step 8331 : train loss--0.01 , train accuracy--100.00%\n",
      "Epoch 30, Step 8331 : valid loss--1.40 , valid accuracy--83.59%\n",
      "Epoch 31, Step 8402 : train loss--0.00 , train accuracy--100.00%\n",
      "Epoch 31, Step 8402 : valid loss--0.89 , valid accuracy--85.16%\n",
      "Epoch 31, Step 8502 : train loss--0.00 , train accuracy--100.00%\n",
      "Epoch 31, Step 8502 : valid loss--1.30 , valid accuracy--84.38%\n",
      "Epoch 31, Step 8602 : train loss--0.01 , train accuracy--100.00%\n",
      "Epoch 31, Step 8602 : valid loss--0.96 , valid accuracy--88.28%\n",
      "Epoch 32, Step 8673 : train loss--0.00 , train accuracy--100.00%\n",
      "Epoch 32, Step 8673 : valid loss--2.01 , valid accuracy--81.25%\n",
      "Epoch 32, Step 8773 : train loss--0.01 , train accuracy--100.00%\n",
      "Epoch 32, Step 8773 : valid loss--1.53 , valid accuracy--81.25%\n",
      "Epoch 32, Step 8873 : train loss--0.01 , train accuracy--100.00%\n",
      "Epoch 32, Step 8873 : valid loss--0.74 , valid accuracy--90.62%\n",
      "Epoch 33, Step 8944 : train loss--0.00 , train accuracy--100.00%\n",
      "Epoch 33, Step 8944 : valid loss--0.87 , valid accuracy--85.16%\n",
      "Epoch 33, Step 9044 : train loss--0.00 , train accuracy--100.00%\n",
      "Epoch 33, Step 9044 : valid loss--1.82 , valid accuracy--83.59%\n",
      "Epoch 33, Step 9144 : train loss--0.01 , train accuracy--100.00%\n",
      "Epoch 33, Step 9144 : valid loss--1.64 , valid accuracy--82.81%\n",
      "Epoch 34, Step 9215 : train loss--0.01 , train accuracy--99.22%\n",
      "Epoch 34, Step 9215 : valid loss--1.22 , valid accuracy--84.38%\n",
      "Epoch 34, Step 9315 : train loss--0.01 , train accuracy--100.00%\n",
      "Epoch 34, Step 9315 : valid loss--1.15 , valid accuracy--86.67%\n",
      "Epoch 34, Step 9415 : train loss--0.00 , train accuracy--100.00%\n",
      "Epoch 34, Step 9415 : valid loss--1.06 , valid accuracy--85.94%\n",
      "Epoch 35, Step 9486 : train loss--0.01 , train accuracy--100.00%\n",
      "Epoch 35, Step 9486 : valid loss--1.42 , valid accuracy--81.25%\n",
      "Epoch 35, Step 9586 : train loss--0.00 , train accuracy--100.00%\n",
      "Epoch 35, Step 9586 : valid loss--0.93 , valid accuracy--83.59%\n",
      "Epoch 35, Step 9686 : train loss--0.00 , train accuracy--100.00%\n",
      "Epoch 35, Step 9686 : valid loss--0.80 , valid accuracy--87.50%\n",
      "Epoch 36, Step 9757 : train loss--0.01 , train accuracy--100.00%\n",
      "Epoch 36, Step 9757 : valid loss--1.43 , valid accuracy--83.59%\n",
      "Epoch 36, Step 9857 : train loss--0.00 , train accuracy--100.00%\n",
      "Epoch 36, Step 9857 : valid loss--1.27 , valid accuracy--85.16%\n",
      "Epoch 36, Step 9957 : train loss--0.00 , train accuracy--100.00%\n",
      "Epoch 36, Step 9957 : valid loss--1.38 , valid accuracy--83.59%\n",
      "Epoch 37, Step 10028 : train loss--0.00 , train accuracy--100.00%\n",
      "Epoch 37, Step 10028 : valid loss--0.58 , valid accuracy--89.06%\n",
      "Epoch 37, Step 10128 : train loss--0.01 , train accuracy--99.22%\n",
      "Epoch 37, Step 10128 : valid loss--0.87 , valid accuracy--85.94%\n",
      "Epoch 37, Step 10228 : train loss--0.01 , train accuracy--99.22%\n",
      "Epoch 37, Step 10228 : valid loss--1.18 , valid accuracy--80.47%\n",
      "Epoch 38, Step 10299 : train loss--0.00 , train accuracy--100.00%\n",
      "Epoch 38, Step 10299 : valid loss--0.49 , valid accuracy--92.97%\n",
      "Epoch 38, Step 10399 : train loss--0.00 , train accuracy--100.00%\n",
      "Epoch 38, Step 10399 : valid loss--1.15 , valid accuracy--86.72%\n",
      "Epoch 38, Step 10499 : train loss--0.01 , train accuracy--99.22%\n",
      "Epoch 38, Step 10499 : valid loss--2.40 , valid accuracy--86.72%\n",
      "Epoch 39, Step 10570 : train loss--0.00 , train accuracy--100.00%\n",
      "Epoch 39, Step 10570 : valid loss--1.31 , valid accuracy--81.25%\n",
      "Epoch 39, Step 10670 : train loss--0.00 , train accuracy--100.00%\n",
      "Epoch 39, Step 10670 : valid loss--1.00 , valid accuracy--87.50%\n",
      "Epoch 39, Step 10770 : train loss--0.00 , train accuracy--100.00%\n",
      "Epoch 39, Step 10770 : valid loss--1.23 , valid accuracy--87.50%\n",
      "Epoch 40, Step 10841 : train loss--0.01 , train accuracy--100.00%\n",
      "Epoch 40, Step 10841 : valid loss--0.72 , valid accuracy--84.38%\n",
      "Epoch 40, Step 10941 : train loss--0.00 , train accuracy--100.00%\n",
      "Epoch 40, Step 10941 : valid loss--1.29 , valid accuracy--82.81%\n",
      "Epoch 40, Step 11041 : train loss--0.00 , train accuracy--100.00%\n",
      "Epoch 40, Step 11041 : valid loss--1.48 , valid accuracy--82.81%\n",
      "Epoch 41, Step 11112 : train loss--0.00 , train accuracy--100.00%\n",
      "Epoch 41, Step 11112 : valid loss--2.19 , valid accuracy--81.25%\n",
      "Epoch 41, Step 11212 : train loss--0.00 , train accuracy--100.00%\n",
      "Epoch 41, Step 11212 : valid loss--0.77 , valid accuracy--90.62%\n",
      "Epoch 41, Step 11312 : train loss--0.00 , train accuracy--100.00%\n",
      "Epoch 41, Step 11312 : valid loss--1.07 , valid accuracy--84.38%\n",
      "Epoch 42, Step 11383 : train loss--0.00 , train accuracy--100.00%\n",
      "Epoch 42, Step 11383 : valid loss--1.71 , valid accuracy--86.72%\n",
      "Epoch 42, Step 11483 : train loss--0.00 , train accuracy--100.00%\n",
      "Epoch 42, Step 11483 : valid loss--0.76 , valid accuracy--86.72%\n",
      "Epoch 42, Step 11583 : train loss--0.00 , train accuracy--100.00%\n",
      "Epoch 42, Step 11583 : valid loss--1.04 , valid accuracy--80.47%\n"
     ]
    },
    {
     "name": "stdout",
     "output_type": "stream",
     "text": [
      "Epoch 43, Step 11654 : train loss--0.00 , train accuracy--100.00%\n",
      "Epoch 43, Step 11654 : valid loss--1.30 , valid accuracy--88.28%\n",
      "Epoch 43, Step 11754 : train loss--0.00 , train accuracy--100.00%\n",
      "Epoch 43, Step 11754 : valid loss--1.78 , valid accuracy--85.16%\n",
      "Epoch 43, Step 11854 : train loss--0.00 , train accuracy--100.00%\n",
      "Epoch 43, Step 11854 : valid loss--1.68 , valid accuracy--82.81%\n",
      "Epoch 44, Step 11925 : train loss--0.00 , train accuracy--100.00%\n",
      "Epoch 44, Step 11925 : valid loss--1.10 , valid accuracy--86.72%\n",
      "Epoch 44, Step 12025 : train loss--0.00 , train accuracy--100.00%\n",
      "Epoch 44, Step 12025 : valid loss--0.92 , valid accuracy--88.28%\n",
      "Epoch 44, Step 12125 : train loss--0.00 , train accuracy--100.00%\n",
      "Epoch 44, Step 12125 : valid loss--1.82 , valid accuracy--82.03%\n",
      "Epoch 45, Step 12196 : train loss--0.00 , train accuracy--100.00%\n",
      "Epoch 45, Step 12196 : valid loss--2.02 , valid accuracy--79.69%\n",
      "Epoch 45, Step 12296 : train loss--0.00 , train accuracy--100.00%\n",
      "Epoch 45, Step 12296 : valid loss--1.38 , valid accuracy--88.28%\n",
      "Epoch 45, Step 12396 : train loss--0.00 , train accuracy--100.00%\n",
      "Epoch 45, Step 12396 : valid loss--1.31 , valid accuracy--80.58%\n",
      "Epoch 46, Step 12467 : train loss--0.00 , train accuracy--100.00%\n",
      "Epoch 46, Step 12467 : valid loss--1.85 , valid accuracy--78.91%\n",
      "Epoch 46, Step 12567 : train loss--0.00 , train accuracy--100.00%\n",
      "Epoch 46, Step 12567 : valid loss--1.57 , valid accuracy--79.69%\n",
      "Epoch 46, Step 12667 : train loss--0.01 , train accuracy--100.00%\n",
      "Epoch 46, Step 12667 : valid loss--0.80 , valid accuracy--83.59%\n",
      "Epoch 47, Step 12738 : train loss--0.00 , train accuracy--100.00%\n",
      "Epoch 47, Step 12738 : valid loss--0.54 , valid accuracy--91.41%\n",
      "Epoch 47, Step 12838 : train loss--0.00 , train accuracy--100.00%\n",
      "Epoch 47, Step 12838 : valid loss--0.91 , valid accuracy--85.16%\n",
      "Epoch 47, Step 12938 : train loss--0.01 , train accuracy--99.22%\n",
      "Epoch 47, Step 12938 : valid loss--2.03 , valid accuracy--79.69%\n",
      "Epoch 48, Step 13009 : train loss--0.00 , train accuracy--100.00%\n",
      "Epoch 48, Step 13009 : valid loss--1.57 , valid accuracy--89.84%\n",
      "Epoch 48, Step 13109 : train loss--0.00 , train accuracy--100.00%\n",
      "Epoch 48, Step 13109 : valid loss--0.72 , valid accuracy--84.38%\n",
      "Epoch 48, Step 13209 : train loss--0.00 , train accuracy--100.00%\n",
      "Epoch 48, Step 13209 : valid loss--1.05 , valid accuracy--85.16%\n",
      "Epoch 49, Step 13280 : train loss--0.00 , train accuracy--100.00%\n",
      "Epoch 49, Step 13280 : valid loss--0.90 , valid accuracy--85.94%\n",
      "Epoch 49, Step 13380 : train loss--0.00 , train accuracy--100.00%\n",
      "Epoch 49, Step 13380 : valid loss--0.74 , valid accuracy--85.16%\n",
      "Epoch 49, Step 13480 : train loss--0.00 , train accuracy--100.00%\n",
      "Epoch 49, Step 13480 : valid loss--0.94 , valid accuracy--92.97%\n"
     ]
    }
   ],
   "source": [
    "import os\n",
    "config = tf.ConfigProto()\n",
    "config.allow_soft_placement = True\n",
    "config.gpu_options.allow_growth = True\n",
    "\n",
    "with tf.Session(config=config) as sess:\n",
    "    sess.run(tf.global_variables_initializer())\n",
    "    \n",
    "    writer_train = tf.summary.FileWriter(\"summary/train\")\n",
    "    writer_train.add_graph(sess.graph)\n",
    "    writer_valid = tf.summary.FileWriter(\"summary/valid\")\n",
    "    writer_valid.add_graph(sess.graph)\n",
    "    \n",
    "    total_step = 0\n",
    "    valid_step = 0\n",
    "    for epoch in range(num_epoches):\n",
    "        for step in range(int(n_train/batch_size)):\n",
    "            idx_start = step * batch_size\n",
    "            idx_end = idx_start + batch_size if (idx_start + batch_size)<n_train else n_train-1\n",
    "            percent = random.uniform(0, 5)/100\n",
    "            inputs_train = addGaussianNoise(X_train[idx_start:idx_end, :, :, :], percent)\n",
    "            inputs_train = (np.array(X_train[idx_start:idx_end, :, :, :]) - 128.)/128.\n",
    "            labels_train = y_train[idx_start:idx_end]\n",
    "            feed_train = {inputs: inputs_train, labels:labels_train}\n",
    "            _ = sess.run(train_op, feed_dict = feed_train)\n",
    "            total_step += 1\n",
    "            if step % 100 == 0:\n",
    "                loss_train, acc_train, summ_train = sess.run([loss, accuracy, summary_op], \n",
    "                                                             feed_dict = feed_train)\n",
    "                writer_train.add_summary(summ_train, global_step = total_step)\n",
    "                \n",
    "                idx_start_val = (valid_step * batch_size) % n_validation\n",
    "                idx_end_val = idx_start_val + batch_size\n",
    "                valid_step += 1\n",
    "                if(idx_end_val >= n_validation):\n",
    "                    idx_end_val = n_validation - 1\n",
    "                inputs_val = np.array(X_valid[idx_start_val:idx_end_val, :, :, :])\n",
    "                inputs_val = (inputs_val - 128.) / 128.\n",
    "                labels_val = y_valid[idx_start_val:idx_end_val]\n",
    "                feed_val = {inputs:inputs_val, labels:labels_val}\n",
    "                loss_val, acc_val, summ_val = sess.run([loss, accuracy, summary_op],\n",
    "                                                      feed_dict = feed_val)\n",
    "                writer_valid.add_summary(summ_val, global_step = total_step)\n",
    "                \n",
    "                print(\"Epoch %d, Step %d : train loss--%.2f , train accuracy--%.2f%%\"%(epoch, total_step, loss_train, acc_train*100))\n",
    "                print(\"Epoch %d, Step %d : valid loss--%.2f , valid accuracy--%.2f%%\"%(epoch, total_step, loss_val, acc_val*100))\n",
    "            \n",
    "            if step % 500 == 0:\n",
    "                saver.save(sess, os.path.join(\"checkpoint\", \"model.ckpt\"), global_step = total_step)\n",
    "            \n",
    "        permutate(X_train, y_train, n_train)"
   ]
  },
  {
   "cell_type": "code",
   "execution_count": 7,
   "metadata": {},
   "outputs": [
    {
     "name": "stdout",
     "output_type": "stream",
     "text": [
      "INFO:tensorflow:Restoring parameters from checkpoint/model.ckpt-13280\n",
      "Test dataset: loss: 1.19, accuracy: 86.34%\n"
     ]
    }
   ],
   "source": [
    "test_batch = 128\n",
    "test_steps = int(n_test / test_batch)\n",
    "model_loss = 0\n",
    "model_acc = 0\n",
    "\n",
    "config = tf.ConfigProto()\n",
    "config.allow_soft_placement = True\n",
    "config.gpu_options.allow_growth = True\n",
    "ckpt = \"checkpoint/model.ckpt-13280\"\n",
    "\n",
    "with tf.Session(config=config) as sess:\n",
    "    saver.restore(sess, ckpt)\n",
    "    for step in range(test_steps):\n",
    "        test_start = step * test_batch\n",
    "        test_end = test_start + test_batch if (test_start + test_batch) < n_test else n_test - 1\n",
    "        inputs_test = np.array(X_test[test_start:test_end, :, :, :])\n",
    "        inputs_test = (inputs_test - 128.) / 128.\n",
    "        labels_test = y_test[test_start:test_end]\n",
    "        feed_test = {inputs:inputs_test, labels:labels_test}\n",
    "        loss_test, acc_test = sess.run([loss, accuracy], feed_dict=feed_test)\n",
    "        model_loss += loss_test\n",
    "        model_acc += acc_test\n",
    "\n",
    "model_loss /= test_steps\n",
    "model_acc /= test_steps\n",
    "print(\"Test dataset: loss: %.2f, accuracy: %.2f%%\"%(model_loss, model_acc*100))"
   ]
  },
  {
   "cell_type": "markdown",
   "metadata": {},
   "source": [
    "---\n",
    "\n",
    "## Step 3: Test a Model on New Images\n",
    "\n",
    "To give yourself more insight into how your model is working, download at least five pictures of German traffic signs from the web and use your model to predict the traffic sign type.\n",
    "\n",
    "You may find `signnames.csv` useful as it contains mappings from the class id (integer) to the actual sign name."
   ]
  },
  {
   "cell_type": "markdown",
   "metadata": {},
   "source": [
    "### Load and Output the Images"
   ]
  },
  {
   "cell_type": "code",
   "execution_count": 38,
   "metadata": {
    "scrolled": true
   },
   "outputs": [
    {
     "data": {
      "image/png": "[encoded data removed]",
      "text/plain": [
       "<Figure size 432x288 with 1 Axes>"
      ]
     },
     "metadata": {},
     "output_type": "display_data"
    },
    {
     "data": {
      "image/png": "[encoded data removed]",
      "text/plain": [
       "<Figure size 432x288 with 1 Axes>"
      ]
     },
     "metadata": {},
     "output_type": "display_data"
    },
    {
     "data": {
      "image/png": "[encoded data removed]",
      "text/plain": [
       "<Figure size 432x288 with 1 Axes>"
      ]
     },
     "metadata": {},
     "output_type": "display_data"
    },
    {
     "data": {
      "image/png": "[encoded data removed]",
      "text/plain": [
       "<Figure size 432x288 with 1 Axes>"
      ]
     },
     "metadata": {},
     "output_type": "display_data"
    },
    {
     "data": {
      "image/png": "[encoded data removed]",
      "text/plain": [
       "<Figure size 432x288 with 1 Axes>"
      ]
     },
     "metadata": {},
     "output_type": "display_data"
    },
    {
     "data": {
      "image/png": "[encoded data removed]",
      "text/plain": [
       "<Figure size 432x288 with 1 Axes>"
      ]
     },
     "metadata": {},
     "output_type": "display_data"
    }
   ],
   "source": [
    "### Load the images and plot them here.\n",
    "### Feel free to use as many code cells as needed.\n",
    "import cv2\n",
    "import os\n",
    "image_names = os.listdir(\"./images\")\n",
    "images = []\n",
    "labels_list = []\n",
    "for image_name in image_names:\n",
    "    image = cv2.imread(os.path.join(\"./images\", image_name))\n",
    "    image = cv2.cvtColor(image, cv2.COLOR_BGR2RGB)\n",
    "    image = cv2.resize(image, (32, 32))\n",
    "    label = int(image_name[:-4])\n",
    "    images.append(image)\n",
    "    labels_list.append(label)\n",
    "    plt.title(label)\n",
    "    plt.imshow(image)\n",
    "    plt.show()"
   ]
  },
  {
   "cell_type": "markdown",
   "metadata": {},
   "source": [
    "### Predict the Sign Type for Each Image"
   ]
  },
  {
   "cell_type": "code",
   "execution_count": 39,
   "metadata": {},
   "outputs": [],
   "source": [
    "predict = tf.argmax(tf.nn.softmax(logits), 1)\n",
    "\n",
    "inputs_test = np.zeros([6, 32, 32, 3], dtype = np.float32)\n",
    "labels_test = np.zeros([6], dtype = np.int32)\n",
    "for index in range(len(images)):\n",
    "    inputs_test[index, :, :, :] = (images[index] - 128.)/128.\n",
    "    labels_test[index] = labels_list[index]"
   ]
  },
  {
   "cell_type": "code",
   "execution_count": 40,
   "metadata": {},
   "outputs": [
    {
     "name": "stdout",
     "output_type": "stream",
     "text": [
      "INFO:tensorflow:Restoring parameters from checkpoint/model.ckpt-13280\n",
      "Predicted accuracy : 100.00%\n"
     ]
    }
   ],
   "source": [
    "### Run the predictions here and use the model to output the prediction for each image.\n",
    "### Make sure to pre-process the images with the same pre-processing pipeline used earlier.\n",
    "### Feel free to use as many code cells as needed.\n",
    "with tf.Session(config=config) as sess:\n",
    "    saver.restore(sess, ckpt)\n",
    "    feed_test = {inputs: inputs_test, labels:labels_test}\n",
    "    predict_test, acc_test = sess.run([predict, accuracy], feed_dict = feed_test)\n",
    "    print(\"Predicted accuracy : %.2f%%\"%(acc_test*100))"
   ]
  },
  {
   "cell_type": "code",
   "execution_count": 47,
   "metadata": {},
   "outputs": [
    {
     "data": {
      "image/png": "[encoded data removed]",
      "text/plain": [
       "<Figure size 1440x1440 with 6 Axes>"
      ]
     },
     "metadata": {},
     "output_type": "display_data"
    }
   ],
   "source": [
    "f, axes = plt.subplots(2, 3, figsize = (20, 20))\n",
    "for i in range(6):\n",
    "    row = int(i/3)\n",
    "    col = int(i%3)\n",
    "    axes[row][col].imshow(images[i])\n",
    "    axes[row][col].set_title(\"True Label:%d, Predicted Label:%d\"%(labels_list[i], predict_test[i]), fontsize = 16)\n",
    "plt.show()"
   ]
  },
  {
   "cell_type": "markdown",
   "metadata": {},
   "source": [
    "### Analyze Performance"
   ]
  },
  {
   "cell_type": "code",
   "execution_count": 20,
   "metadata": {},
   "outputs": [
    {
     "name": "stdout",
     "output_type": "stream",
     "text": [
      "Predicted accuracy : 100.00%\n"
     ]
    }
   ],
   "source": [
    "### Calculate the accuracy for these 5 new images. \n",
    "### For example, if the model predicted 1 out of 5 signs correctly, it's 20% accurate on these new images.\n",
    "print(\"Predicted accuracy : %.2f%%\"%(acc_test*100))"
   ]
  },
  {
   "cell_type": "markdown",
   "metadata": {},
   "source": [
    "### Output Top 5 Softmax Probabilities For Each Image Found on the Web"
   ]
  },
  {
   "cell_type": "markdown",
   "metadata": {},
   "source": [
    "For each of the new images, print out the model's softmax probabilities to show the **certainty** of the model's predictions (limit the output to the top 5 probabilities for each image). [`tf.nn.top_k`](https://www.tensorflow.org/versions/r0.12/api_docs/python/nn.html#top_k) could prove helpful here. \n",
    "\n",
    "The example below demonstrates how tf.nn.top_k can be used to find the top k predictions for each image.\n",
    "\n",
    "`tf.nn.top_k` will return the values and indices (class ids) of the top k predictions. So if k=3, for each sign, it'll return the 3 largest probabilities (out of a possible 43) and the correspoding class ids.\n",
    "\n",
    "Take this numpy array as an example. The values in the array represent predictions. The array contains softmax probabilities for five candidate images with six possible classes. `tf.nn.top_k` is used to choose the three classes with the highest probability:\n",
    "\n",
    "```\n",
    "# (5, 6) array\n",
    "a = np.array([[ 0.24879643,  0.07032244,  0.12641572,  0.34763842,  0.07893497,\n",
    "         0.12789202],\n",
    "       [ 0.28086119,  0.27569815,  0.08594638,  0.0178669 ,  0.18063401,\n",
    "         0.15899337],\n",
    "       [ 0.26076848,  0.23664738,  0.08020603,  0.07001922,  0.1134371 ,\n",
    "         0.23892179],\n",
    "       [ 0.11943333,  0.29198961,  0.02605103,  0.26234032,  0.1351348 ,\n",
    "         0.16505091],\n",
    "       [ 0.09561176,  0.34396535,  0.0643941 ,  0.16240774,  0.24206137,\n",
    "         0.09155967]])\n",
    "```\n",
    "\n",
    "Running it through `sess.run(tf.nn.top_k(tf.constant(a), k=3))` produces:\n",
    "\n",
    "```\n",
    "TopKV2(values=array([[ 0.34763842,  0.24879643,  0.12789202],\n",
    "       [ 0.28086119,  0.27569815,  0.18063401],\n",
    "       [ 0.26076848,  0.23892179,  0.23664738],\n",
    "       [ 0.29198961,  0.26234032,  0.16505091],\n",
    "       [ 0.34396535,  0.24206137,  0.16240774]]), indices=array([[3, 0, 5],\n",
    "       [0, 1, 4],\n",
    "       [0, 5, 1],\n",
    "       [1, 3, 5],\n",
    "       [1, 4, 3]], dtype=int32))\n",
    "```\n",
    "\n",
    "Looking just at the first row we get `[ 0.34763842,  0.24879643,  0.12789202]`, you can confirm these are the 3 largest probabilities in `a`. You'll also notice `[3, 0, 5]` are the corresponding indices."
   ]
  },
  {
   "cell_type": "code",
   "execution_count": 46,
   "metadata": {},
   "outputs": [
    {
     "name": "stdout",
     "output_type": "stream",
     "text": [
      "INFO:tensorflow:Restoring parameters from checkpoint/model.ckpt-13280\n",
      "Top 5 predictions for each image :\n",
      "[[ 0  1  8  4  7]\n",
      " [15 26 29  4 14]\n",
      " [26 12  1 32 22]\n",
      " [35 34 36 33 38]\n",
      " [38 18 40 36 34]\n",
      " [41 42 11 32  9]]\n"
     ]
    }
   ],
   "source": [
    "### Print out the top five softmax probabilities for the predictions on the German traffic sign images found on the web. \n",
    "### Feel free to use as many code cells as needed.\n",
    "topK = tf.nn.top_k(logits, k = 5)\n",
    "\n",
    "with tf.Session(config=config) as sess:\n",
    "    saver.restore(sess, ckpt)\n",
    "    feed_test = {inputs: inputs_test}\n",
    "    topK_test = sess.run(topK, feed_dict = feed_test)\n",
    "print(\"Top 5 predictions for each image :\")\n",
    "print(topK_test.indices)"
   ]
  },
  {
   "cell_type": "markdown",
   "metadata": {},
   "source": [
    "### Project Writeup\n",
    "\n",
    "Once you have completed the code implementation, document your results in a project writeup using this [template](https://github.com/udacity/CarND-Traffic-Sign-Classifier-Project/blob/master/writeup_template.md) as a guide. The writeup can be in a markdown or pdf file. "
   ]
  },
  {
   "cell_type": "markdown",
   "metadata": {},
   "source": [
    "> **Note**: Once you have completed all of the code implementations and successfully answered each question above, you may finalize your work by exporting the iPython Notebook as an HTML document. You can do this by using the menu above and navigating to  \\n\",\n",
    "    \"**File -> Download as -> HTML (.html)**. Include the finished document along with this notebook as your submission."
   ]
  },
  {
   "cell_type": "markdown",
   "metadata": {},
   "source": [
    "---\n",
    "\n",
    "## Step 4 (Optional): Visualize the Neural Network's State with Test Images\n",
    "\n",
    " This Section is not required to complete but acts as an additional excersise for understaning the output of a neural network's weights. While neural networks can be a great learning device they are often referred to as a black box. We can understand what the weights of a neural network look like better by plotting their feature maps. After successfully training your neural network you can see what it's feature maps look like by plotting the output of the network's weight layers in response to a test stimuli image. From these plotted feature maps, it's possible to see what characteristics of an image the network finds interesting. For a sign, maybe the inner network feature maps react with high activation to the sign's boundary outline or to the contrast in the sign's painted symbol.\n",
    "\n",
    " Provided for you below is the function code that allows you to get the visualization output of any tensorflow weight layer you want. The inputs to the function should be a stimuli image, one used during training or a new one you provided, and then the tensorflow variable name that represents the layer's state during the training process, for instance if you wanted to see what the [LeNet lab's](https://classroom.udacity.com/nanodegrees/nd013/parts/fbf77062-5703-404e-b60c-95b78b2f3f9e/modules/6df7ae49-c61c-4bb2-a23e-6527e69209ec/lessons/601ae704-1035-4287-8b11-e2c2716217ad/concepts/d4aca031-508f-4e0b-b493-e7b706120f81) feature maps looked like for it's second convolutional layer you could enter conv2 as the tf_activation variable.\n",
    "\n",
    "For an example of what feature map outputs look like, check out NVIDIA's results in their paper [End-to-End Deep Learning for Self-Driving Cars](https://devblogs.nvidia.com/parallelforall/deep-learning-self-driving-cars/) in the section Visualization of internal CNN State. NVIDIA was able to show that their network's inner weights had high activations to road boundary lines by comparing feature maps from an image with a clear path to one without. Try experimenting with a similar test to show that your trained network's weights are looking for interesting features, whether it's looking at differences in feature maps from images with or without a sign, or even what feature maps look like in a trained network vs a completely untrained one on the same sign image.\n",
    "\n",
    "<figure>\n",
    " <img src=\"visualize_cnn.png\" width=\"380\" alt=\"Combined Image\" />\n",
    " <figcaption>\n",
    " <p></p> \n",
    " <p style=\"text-align: center;\"> Your output should look something like this (above)</p> \n",
    " </figcaption>\n",
    "</figure>\n",
    " <p></p> \n"
   ]
  },
  {
   "cell_type": "code",
   "execution_count": null,
   "metadata": {
    "collapsed": true
   },
   "outputs": [],
   "source": [
    "### Visualize your network's feature maps here.\n",
    "### Feel free to use as many code cells as needed.\n",
    "\n",
    "# image_input: the test image being fed into the network to produce the feature maps\n",
    "# tf_activation: should be a tf variable name used during your training procedure that represents the calculated state of a specific weight layer\n",
    "# activation_min/max: can be used to view the activation contrast in more detail, by default matplot sets min and max to the actual min and max values of the output\n",
    "# plt_num: used to plot out multiple different weight feature map sets on the same block, just extend the plt number for each new feature map entry\n",
    "\n",
    "def outputFeatureMap(image_input, tf_activation, activation_min=-1, activation_max=-1 ,plt_num=1):\n",
    "    # Here make sure to preprocess your image_input in a way your network expects\n",
    "    # with size, normalization, ect if needed\n",
    "    # image_input =\n",
    "    # Note: x should be the same name as your network's tensorflow data placeholder variable\n",
    "    # If you get an error tf_activation is not defined it may be having trouble accessing the variable from inside a function\n",
    "    activation = tf_activation.eval(session=sess,feed_dict={x : image_input})\n",
    "    featuremaps = activation.shape[3]\n",
    "    plt.figure(plt_num, figsize=(15,15))\n",
    "    for featuremap in range(featuremaps):\n",
    "        plt.subplot(6,8, featuremap+1) # sets the number of feature maps to show on each row and column\n",
    "        plt.title('FeatureMap ' + str(featuremap)) # displays the feature map number\n",
    "        if activation_min != -1 & activation_max != -1:\n",
    "            plt.imshow(activation[0,:,:, featuremap], interpolation=\"nearest\", vmin =activation_min, vmax=activation_max, cmap=\"gray\")\n",
    "        elif activation_max != -1:\n",
    "            plt.imshow(activation[0,:,:, featuremap], interpolation=\"nearest\", vmax=activation_max, cmap=\"gray\")\n",
    "        elif activation_min !=-1:\n",
    "            plt.imshow(activation[0,:,:, featuremap], interpolation=\"nearest\", vmin=activation_min, cmap=\"gray\")\n",
    "        else:\n",
    "            plt.imshow(activation[0,:,:, featuremap], interpolation=\"nearest\", cmap=\"gray\")"
   ]
  }
 ],
 "metadata": {
  "anaconda-cloud": {},
  "kernelspec": {
   "display_name": "Python 3",
   "language": "python",
   "name": "python3"
  },
  "language_info": {
   "codemirror_mode": {
    "name": "ipython",
    "version": 3
   },
   "file_extension": ".py",
   "mimetype": "text/x-python",
   "name": "python",
   "nbconvert_exporter": "python",
   "pygments_lexer": "ipython3",
   "version": "3.6.8"
  }
 },
 "nbformat": 4,
 "nbformat_minor": 1
}
